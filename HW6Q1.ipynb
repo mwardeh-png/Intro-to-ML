{
  "nbformat": 4,
  "nbformat_minor": 0,
  "metadata": {
    "colab": {
      "provenance": []
    },
    "kernelspec": {
      "name": "python3",
      "display_name": "Python 3"
    },
    "language_info": {
      "name": "python"
    }
  },
  "cells": [
    {
      "cell_type": "code",
      "execution_count": 1,
      "metadata": {
        "id": "PrqYvbZgfBtu"
      },
      "outputs": [],
      "source": [
        "from sklearn.model_selection import train_test_split\n",
        "from sklearn.preprocessing import StandardScaler\n",
        "import matplotlib.pyplot as plt\n",
        "import torch.optim as optim\n",
        "import torch.nn as nn\n",
        "import pandas as pd\n",
        "import numpy as np\n",
        "import torch\n",
        "\n",
        "url = \"https://raw.githubusercontent.com/mwardeh-png/Intro-to-ML/main/Housing.csv\"\n",
        "hf = pd.read_csv(url)\n",
        "\n",
        "variable_list = ['mainroad', 'guestroom', 'basement', 'hotwaterheating', 'airconditioning', 'prefarea']\n",
        "\n",
        "def binary_mapping(x):\n",
        "  return x.map({'no' : 0, 'yes' : 1})"
      ]
    },
    {
      "cell_type": "markdown",
      "source": [
        "# **Pre-processing and Training**"
      ],
      "metadata": {
        "id": "ffXFazWBgtLY"
      }
    },
    {
      "cell_type": "markdown",
      "source": [
        "\n",
        "> **Separating desired Features and Outputs**\n"
      ],
      "metadata": {
        "id": "7jz3il8_gw-y"
      }
    },
    {
      "cell_type": "code",
      "source": [
        "hf[variable_list] = hf[variable_list].apply(binary_mapping)\n",
        "hf = hf.drop('furnishingstatus', axis=1)\n",
        "\n",
        "y = hf.pop('price').values.reshape(-1,1)\n",
        "features = hf.columns.tolist()\n",
        "x = hf.values"
      ],
      "metadata": {
        "id": "zl01QDD1gQRG"
      },
      "execution_count": 2,
      "outputs": []
    },
    {
      "cell_type": "markdown",
      "source": [
        "\n",
        "> **Splitting Training and Validation Set**\n"
      ],
      "metadata": {
        "id": "NC-G_N2mhGyQ"
      }
    },
    {
      "cell_type": "code",
      "source": [
        "x_n = torch.tensor(StandardScaler().fit_transform(x), dtype=torch.float32)\n",
        "y_n = torch.tensor(StandardScaler().fit_transform(y), dtype=torch.float32)\n",
        "\n",
        "\n",
        "x_train, x_valid, y_train, y_valid = train_test_split(x_n, y_n, test_size=0.8, random_state=42)"
      ],
      "metadata": {
        "id": "3L821P4vhQgo"
      },
      "execution_count": 3,
      "outputs": []
    },
    {
      "cell_type": "markdown",
      "source": [
        "\n",
        "> **Training Loop**\n"
      ],
      "metadata": {
        "id": "qEoiV04_hkOH"
      }
    },
    {
      "cell_type": "code",
      "source": [
        "def training(epochs, optimizer, model, loss_fn, x_train, x_valid, y_train, y_valid):\n",
        "  for epoch in range(1, epochs+1):\n",
        "    h_train = model(x_train)\n",
        "    train_loss = loss_fn(h_train, y_train)\n",
        "\n",
        "    h_valid = model(x_valid)\n",
        "    valid_loss = loss_fn(h_valid, y_valid)\n",
        "\n",
        "    optimizer.zero_grad()\n",
        "    train_loss.backward()\n",
        "    optimizer.step()\n",
        "\n",
        "    if epoch % 1000 == 0:\n",
        "      print(f\"Epoch {epoch}. Training loss {train_loss.item()}, Validation loss {valid_loss.item()}\")\n"
      ],
      "metadata": {
        "id": "lvtlacOGhib4"
      },
      "execution_count": 5,
      "outputs": []
    },
    {
      "cell_type": "markdown",
      "source": [
        "**1a. SGD Optimized Linear Model with 1 hidden layer**"
      ],
      "metadata": {
        "id": "ssyWqSbthrr2"
      }
    },
    {
      "cell_type": "code",
      "source": [
        "seq_model = nn.Sequential(\n",
        "    nn.Linear(11, 32),\n",
        "    nn.Tanh(),\n",
        "    nn.Linear(32, 1))\n",
        "\n",
        "optimizer = optim.SGD(seq_model.parameters(), lr=1e-3)\n",
        "training(\n",
        "    epochs = 5000,\n",
        "    optimizer = optimizer,\n",
        "    model = seq_model,\n",
        "    loss_fn = nn.MSELoss(),\n",
        "    x_train = x_train,\n",
        "    x_valid = x_valid,\n",
        "    y_train = y_train,\n",
        "    y_valid = y_valid)"
      ],
      "metadata": {
        "colab": {
          "base_uri": "https://localhost:8080/"
        },
        "id": "IOgu5iQohpJU",
        "outputId": "cb36c723-cf26-44fa-bca6-d954cdef7f3c"
      },
      "execution_count": 6,
      "outputs": [
        {
          "output_type": "stream",
          "name": "stdout",
          "text": [
            "Epoch 1000. Training loss 0.35265854001045227, Validation loss 0.39989182353019714\n",
            "Epoch 2000. Training loss 0.31663796305656433, Validation loss 0.41963985562324524\n",
            "Epoch 3000. Training loss 0.29788681864738464, Validation loss 0.4310794174671173\n",
            "Epoch 4000. Training loss 0.2831394672393799, Validation loss 0.4347243010997772\n",
            "Epoch 5000. Training loss 0.26930317282676697, Validation loss 0.43406355381011963\n"
          ]
        }
      ]
    },
    {
      "cell_type": "markdown",
      "source": [
        "**1b. SGD Optimized Linear Model with 3 hidden layer**"
      ],
      "metadata": {
        "id": "RCxTx3LKh8q_"
      }
    },
    {
      "cell_type": "code",
      "source": [
        "seq_model = nn.Sequential(\n",
        "    nn.Linear(11, 32),\n",
        "    nn.Tanh(),\n",
        "    nn.Linear(32, 64),\n",
        "    nn.Tanh(),\n",
        "    nn.Linear(64, 16),\n",
        "    nn.Tanh(),\n",
        "    nn.Linear(16,1))\n",
        "\n",
        "optimizer = optim.SGD(seq_model.parameters(), lr=1e-3)\n",
        "training(\n",
        "    epochs = 5000,\n",
        "    optimizer = optimizer,\n",
        "    model = seq_model,\n",
        "    loss_fn = nn.MSELoss(),\n",
        "    x_train = x_train,\n",
        "    x_valid = x_valid,\n",
        "    y_train = y_train,\n",
        "    y_valid = y_valid)"
      ],
      "metadata": {
        "colab": {
          "base_uri": "https://localhost:8080/"
        },
        "id": "xssNT2P4hzT8",
        "outputId": "6e5b215a-ffe6-42b3-ac8f-e25f1caa031e"
      },
      "execution_count": 7,
      "outputs": [
        {
          "output_type": "stream",
          "name": "stdout",
          "text": [
            "Epoch 1000. Training loss 0.36544960737228394, Validation loss 0.4467775225639343\n",
            "Epoch 2000. Training loss 0.33395904302597046, Validation loss 0.45538777112960815\n",
            "Epoch 3000. Training loss 0.3176318109035492, Validation loss 0.46148884296417236\n",
            "Epoch 4000. Training loss 0.30381396412849426, Validation loss 0.46185576915740967\n",
            "Epoch 5000. Training loss 0.2900848090648651, Validation loss 0.459676057100296\n"
          ]
        }
      ]
    }
  ]
}