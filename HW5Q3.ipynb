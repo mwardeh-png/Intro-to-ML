{
  "nbformat": 4,
  "nbformat_minor": 0,
  "metadata": {
    "colab": {
      "provenance": []
    },
    "kernelspec": {
      "name": "python3",
      "display_name": "Python 3"
    },
    "language_info": {
      "name": "python"
    }
  },
  "cells": [
    {
      "cell_type": "code",
      "execution_count": null,
      "metadata": {
        "id": "B0FGKYRDJD7w"
      },
      "outputs": [],
      "source": [
        "from sklearn.preprocessing import StandardScaler\n",
        "import matplotlib.pyplot as plt\n",
        "import torch.optim as optim\n",
        "import pandas as pd\n",
        "import numpy as np\n",
        "import torch\n",
        "\n",
        "url = \"https://raw.githubusercontent.com/mwardeh-png/Intro-to-ML/main/Housing.csv\"\n",
        "hf = pd.read_csv(url)\n",
        "\n",
        "variable_list = ['mainroad', 'guestroom', 'basement', 'hotwaterheating', 'airconditioning', 'prefarea']\n",
        "\n",
        "def binary_mapping(x):\n",
        "  return x.map({'no' : 0, 'yes' : 1})\n",
        "\n",
        "hf[variable_list] = hf[variable_list].apply(binary_mapping)\n",
        "hf = hf.drop('furnishingstatus', axis=1)"
      ]
    },
    {
      "cell_type": "markdown",
      "source": [
        "# **Pre-processing and Training**"
      ],
      "metadata": {
        "id": "GaDQ6k_tJkyX"
      }
    },
    {
      "cell_type": "markdown",
      "source": [
        "\n",
        "> **Separating desired Features and Outputs**\n"
      ],
      "metadata": {
        "id": "B676EkgKJoGV"
      }
    },
    {
      "cell_type": "code",
      "source": [
        "y = hf.pop('price')\n",
        "features = hf.columns.tolist()\n",
        "x = hf.values\n",
        "\n",
        "t_un = torch.tensor(StandardScaler().fit_transform(x), dtype=torch.float32)\n",
        "t_u = torch.tensor(x, dtype=torch.float32)\n",
        "t_c = torch.tensor(y, dtype=torch.float32)"
      ],
      "metadata": {
        "id": "ZOeWeMiPJjlq"
      },
      "execution_count": null,
      "outputs": []
    },
    {
      "cell_type": "markdown",
      "source": [
        "\n",
        "> **Splitting Training and Validation Set**\n"
      ],
      "metadata": {
        "id": "gnMH7_8wJvZZ"
      }
    },
    {
      "cell_type": "code",
      "source": [
        "samples = t_un.shape[0]\n",
        "values = int(0.2 * samples)\n",
        "\n",
        "shuffle = torch.randperm(samples)\n",
        "train_idx = shuffle[:-values]\n",
        "valid_idx = shuffle[-values:]\n",
        "\n",
        "t_un_train = t_un[train_idx]\n",
        "t_un_valid = t_un[valid_idx]\n",
        "\n",
        "t_u_train = t_u[train_idx]\n",
        "t_u_valid = t_u[valid_idx]\n",
        "\n",
        "t_c_train = t_c[train_idx]\n",
        "t_c_valid = t_c[valid_idx]"
      ],
      "metadata": {
        "id": "D_q_CItKJu3g"
      },
      "execution_count": null,
      "outputs": []
    },
    {
      "cell_type": "markdown",
      "source": [
        "\n",
        "\n",
        "> **Linear Regression Training**\n",
        "\n",
        "\n"
      ],
      "metadata": {
        "id": "wegEIaR5J4cK"
      }
    },
    {
      "cell_type": "code",
      "source": [
        "def lin_model(t_u, w11, w10, w9, w8, w7, w6, w5, w4, w3, w2, w1, b):\n",
        "  return torch.matmul(t_u, params[:-1]) + params[-1]\n",
        "\n",
        "def cost(t_p, t_c):\n",
        "  squared_diffs = (t_p - t_c)**2\n",
        "  return squared_diffs.mean()\n",
        "\n",
        "def lin_training(epochs, optimizer, params, t_u_train, t_u_valid, t_c_train, t_c_valid):\n",
        "  train_losses = []\n",
        "  valid_losses = []\n",
        "\n",
        "  for epoch in range(1, epochs+1):\n",
        "    t_p_train = lin_model(t_u_train, *params)\n",
        "    train_loss = cost(t_p_train, t_c_train)\n",
        "\n",
        "    t_p_valid = lin_model(t_u_valid, *params)\n",
        "    valid_loss = cost(t_p_valid, t_c_valid)\n",
        "\n",
        "    optimizer.zero_grad()\n",
        "    train_loss.backward()\n",
        "    optimizer.step()\n",
        "\n",
        "    train_losses.append(train_loss)\n",
        "    valid_losses.append(valid_loss)\n",
        "\n",
        "    if epoch % 500 == 0:\n",
        "      print(f'Epochs: {epoch}, \\tTraining Loss: {train_loss}, \\tValidation Loss: {valid_loss}')\n",
        "  return params, train_losses, valid_losses"
      ],
      "metadata": {
        "id": "_5AQ1146J26I"
      },
      "execution_count": null,
      "outputs": []
    },
    {
      "cell_type": "markdown",
      "source": [
        "# **SGD Optimized Linear Model**"
      ],
      "metadata": {
        "id": "Iyv92WgoKG9E"
      }
    },
    {
      "cell_type": "markdown",
      "source": [
        "> *Trained with LR of* ***1e-1***"
      ],
      "metadata": {
        "id": "qjJcjebcKNKh"
      }
    },
    {
      "cell_type": "code",
      "source": [
        "params = torch.tensor([1.0, 1.0, 1.0, 1.0, 1.0, 1.0, 1.0, 1.0, 1.0, 1.0, 1.0, 0.0], requires_grad=True)\n",
        "\n",
        "optimizer = optim.SGD([params], lr = 1e-1)\n",
        "\n",
        "print('Learning rate of 0.1')\n",
        "model, trainLoss, validLoss = lin_training(5000, optimizer, params, t_un_train, t_un_valid, t_c_train, t_c_valid)\n",
        "SGD_trainLoss1 = np.array([item.detach().item() for item in trainLoss])\n",
        "SGD_validLoss1 = np.array([item.detach().item() for item in validLoss])"
      ],
      "metadata": {
        "colab": {
          "base_uri": "https://localhost:8080/"
        },
        "id": "Vt1LSY2aKLdR",
        "outputId": "9e04eb7c-c74d-4a12-c38c-6c5061608c22"
      },
      "execution_count": null,
      "outputs": [
        {
          "output_type": "stream",
          "name": "stdout",
          "text": [
            "Learning rate of 0.1\n",
            "Epochs: 500, \tTraining Loss: 1129845751808.0, \tValidation Loss: 1217132494848.0\n",
            "Epochs: 1000, \tTraining Loss: 1129845751808.0, \tValidation Loss: 1217132494848.0\n",
            "Epochs: 1500, \tTraining Loss: 1129845751808.0, \tValidation Loss: 1217132494848.0\n",
            "Epochs: 2000, \tTraining Loss: 1129845751808.0, \tValidation Loss: 1217132494848.0\n",
            "Epochs: 2500, \tTraining Loss: 1129845751808.0, \tValidation Loss: 1217132494848.0\n",
            "Epochs: 3000, \tTraining Loss: 1129845751808.0, \tValidation Loss: 1217132494848.0\n",
            "Epochs: 3500, \tTraining Loss: 1129845751808.0, \tValidation Loss: 1217132494848.0\n",
            "Epochs: 4000, \tTraining Loss: 1129845751808.0, \tValidation Loss: 1217132494848.0\n",
            "Epochs: 4500, \tTraining Loss: 1129845751808.0, \tValidation Loss: 1217132494848.0\n",
            "Epochs: 5000, \tTraining Loss: 1129845751808.0, \tValidation Loss: 1217132494848.0\n"
          ]
        }
      ]
    },
    {
      "cell_type": "markdown",
      "source": [
        "> *Trained with LR of* ***1e-2***"
      ],
      "metadata": {
        "id": "2oKgab4zKTFB"
      }
    },
    {
      "cell_type": "code",
      "source": [
        "params = torch.tensor([1.0, 1.0, 1.0, 1.0, 1.0, 1.0, 1.0, 1.0, 1.0, 1.0, 1.0, 0.0], requires_grad=True)\n",
        "\n",
        "optimizer = optim.SGD([params], lr = 1e-2)\n",
        "\n",
        "print('Learning rate of 0.01')\n",
        "model, trainLoss, validLoss = lin_training(5000, optimizer, params, t_un_train, t_un_valid, t_c_train, t_c_valid)\n",
        "SGD_trainLoss2 = np.array([item.detach().item() for item in trainLoss])\n",
        "SGD_validLoss2 = np.array([item.detach().item() for item in validLoss])"
      ],
      "metadata": {
        "colab": {
          "base_uri": "https://localhost:8080/"
        },
        "id": "HRf6x2xJKP9J",
        "outputId": "9449b404-b4da-41f6-eda4-d206d2741f4c"
      },
      "execution_count": null,
      "outputs": [
        {
          "output_type": "stream",
          "name": "stdout",
          "text": [
            "Learning rate of 0.01\n",
            "Epochs: 500, \tTraining Loss: 1129847717888.0, \tValidation Loss: 1216956465152.0\n",
            "Epochs: 1000, \tTraining Loss: 1129845882880.0, \tValidation Loss: 1217133674496.0\n",
            "Epochs: 1500, \tTraining Loss: 1129845751808.0, \tValidation Loss: 1217135509504.0\n",
            "Epochs: 2000, \tTraining Loss: 1129845751808.0, \tValidation Loss: 1217135509504.0\n",
            "Epochs: 2500, \tTraining Loss: 1129845751808.0, \tValidation Loss: 1217135509504.0\n",
            "Epochs: 3000, \tTraining Loss: 1129845751808.0, \tValidation Loss: 1217135509504.0\n",
            "Epochs: 3500, \tTraining Loss: 1129845751808.0, \tValidation Loss: 1217135509504.0\n",
            "Epochs: 4000, \tTraining Loss: 1129845751808.0, \tValidation Loss: 1217135509504.0\n",
            "Epochs: 4500, \tTraining Loss: 1129845751808.0, \tValidation Loss: 1217135509504.0\n",
            "Epochs: 5000, \tTraining Loss: 1129845751808.0, \tValidation Loss: 1217135509504.0\n"
          ]
        }
      ]
    },
    {
      "cell_type": "markdown",
      "source": [
        "> *Trained with LR of* ***1e-3***"
      ],
      "metadata": {
        "id": "cFc9y-YpKfHk"
      }
    },
    {
      "cell_type": "code",
      "source": [
        "params = torch.tensor([1.0, 1.0, 1.0, 1.0, 1.0, 1.0, 1.0, 1.0, 1.0, 1.0, 1.0, 0.0], requires_grad=True)\n",
        "\n",
        "optimizer = optim.SGD([params], lr = 1e-3)\n",
        "\n",
        "\n",
        "print('Learning rate of 0.001')\n",
        "model, trainLoss, validLoss = lin_training(5000, optimizer, params, t_un_train, t_un_valid, t_c_train, t_c_valid)\n",
        "SGD_trainLoss3 = np.array([item.detach().item() for item in trainLoss])\n",
        "SGD_validLoss3 = np.array([item.detach().item() for item in validLoss])"
      ],
      "metadata": {
        "colab": {
          "base_uri": "https://localhost:8080/"
        },
        "id": "-S4E9dpgKZMO",
        "outputId": "bb2cfbf5-21dd-48bf-b0e1-df4e7ac9d7fa"
      },
      "execution_count": null,
      "outputs": [
        {
          "output_type": "stream",
          "name": "stdout",
          "text": [
            "Learning rate of 0.001\n",
            "Epochs: 500, \tTraining Loss: 4257857667072.0, \tValidation Loss: 5083641151488.0\n",
            "Epochs: 1000, \tTraining Loss: 1561130434560.0, \tValidation Loss: 1871684173824.0\n",
            "Epochs: 1500, \tTraining Loss: 1191426523136.0, \tValidation Loss: 1349938970624.0\n",
            "Epochs: 2000, \tTraining Loss: 1139164971008.0, \tValidation Loss: 1248755187712.0\n",
            "Epochs: 2500, \tTraining Loss: 1131407212544.0, \tValidation Loss: 1225187917824.0\n",
            "Epochs: 3000, \tTraining Loss: 1130150887424.0, \tValidation Loss: 1218970779648.0\n",
            "Epochs: 3500, \tTraining Loss: 1129917317120.0, \tValidation Loss: 1217305378816.0\n",
            "Epochs: 4000, \tTraining Loss: 1129865412608.0, \tValidation Loss: 1216927891456.0\n",
            "Epochs: 4500, \tTraining Loss: 1129851912192.0, \tValidation Loss: 1216904691712.0\n",
            "Epochs: 5000, \tTraining Loss: 1129847848960.0, \tValidation Loss: 1216961708032.0\n"
          ]
        }
      ]
    },
    {
      "cell_type": "markdown",
      "source": [
        "> *Trained with LR of* ***1e-4***"
      ],
      "metadata": {
        "id": "kp-S2KzhLHZr"
      }
    },
    {
      "cell_type": "code",
      "source": [
        "params = torch.tensor([1.0, 1.0, 1.0, 1.0, 1.0, 1.0, 1.0, 1.0, 1.0, 1.0, 1.0, 0.0], requires_grad=True)\n",
        "\n",
        "optimizer = optim.SGD([params], lr = 1e-4)\n",
        "\n",
        "\n",
        "print('Learning rate of 0.0001')\n",
        "model, trainLoss, validLoss = lin_training(5000, optimizer, params, t_un_train, t_un_valid, t_c_train, t_c_valid)\n",
        "SGD_trainLoss4 = np.array([item.detach().item() for item in trainLoss])\n",
        "SGD_validLoss4 = np.array([item.detach().item() for item in validLoss])"
      ],
      "metadata": {
        "colab": {
          "base_uri": "https://localhost:8080/"
        },
        "id": "9JFWiW9qK19s",
        "outputId": "36f60b68-722e-4c32-bf01-c9cacaf5b34f"
      },
      "execution_count": null,
      "outputs": [
        {
          "output_type": "stream",
          "name": "stdout",
          "text": [
            "Learning rate of 0.0001\n",
            "Epochs: 500, \tTraining Loss: 20769711063040.0, \tValidation Loss: 23832974852096.0\n",
            "Epochs: 1000, \tTraining Loss: 17026394357760.0, \tValidation Loss: 19578547601408.0\n",
            "Epochs: 1500, \tTraining Loss: 14032520085504.0, \tValidation Loss: 16183296262144.0\n",
            "Epochs: 2000, \tTraining Loss: 11625615589376.0, \tValidation Loss: 13457302749184.0\n",
            "Epochs: 2500, \tTraining Loss: 9682585387008.0, \tValidation Loss: 11257427001344.0\n",
            "Epochs: 3000, \tTraining Loss: 8108874137600.0, \tValidation Loss: 9474434662400.0\n",
            "Epochs: 3500, \tTraining Loss: 6830991343616.0, \tValidation Loss: 8024005017600.0\n",
            "Epochs: 4000, \tTraining Loss: 5791205556224.0, \tValidation Loss: 6840379244544.0\n",
            "Epochs: 4500, \tTraining Loss: 4943799386112.0, \tValidation Loss: 5871841574912.0\n",
            "Epochs: 5000, \tTraining Loss: 4252299689984.0, \tValidation Loss: 5077397929984.0\n"
          ]
        }
      ]
    },
    {
      "cell_type": "markdown",
      "source": [
        "# **Adam Optimized Linear Model**"
      ],
      "metadata": {
        "id": "AMakCz6-LOpC"
      }
    },
    {
      "cell_type": "markdown",
      "source": [
        "> *Trained with LR of* ***1e-1***"
      ],
      "metadata": {
        "id": "wcL6VeXwLSq-"
      }
    },
    {
      "cell_type": "code",
      "source": [
        "params = torch.tensor([1.0, 1.0, 1.0, 1.0, 1.0, 1.0, 1.0, 1.0, 1.0, 1.0, 1.0, 0.0], requires_grad=True)\n",
        "\n",
        "optimizer = optim.Adam([params], lr = 1e-1)\n",
        "\n",
        "print('Learning rate of 0.1')\n",
        "model, trainLoss, validLoss = lin_training(5000, optimizer, params, t_u_train, t_u_valid, t_c_train, t_c_valid)\n",
        "adam_trainLoss1 = np.array([item.detach().item() for item in trainLoss])\n",
        "adam_validLoss1 = np.array([item.detach().item() for item in validLoss])"
      ],
      "metadata": {
        "colab": {
          "base_uri": "https://localhost:8080/"
        },
        "id": "gmze5TGOLL9v",
        "outputId": "8edb3e57-8049-4e00-8bd2-257e457e1052"
      },
      "execution_count": null,
      "outputs": [
        {
          "output_type": "stream",
          "name": "stdout",
          "text": [
            "Learning rate of 0.1\n",
            "Epochs: 500, \tTraining Loss: 22904397889536.0, \tValidation Loss: 26394612465664.0\n",
            "Epochs: 1000, \tTraining Loss: 20598151446528.0, \tValidation Loss: 23872179011584.0\n",
            "Epochs: 1500, \tTraining Loss: 18484845084672.0, \tValidation Loss: 21551449636864.0\n",
            "Epochs: 2000, \tTraining Loss: 16548885430272.0, \tValidation Loss: 19415955406848.0\n",
            "Epochs: 2500, \tTraining Loss: 14777621413888.0, \tValidation Loss: 17452365774848.0\n",
            "Epochs: 3000, \tTraining Loss: 13160862973952.0, \tValidation Loss: 15649955905536.0\n",
            "Epochs: 3500, \tTraining Loss: 11690398711808.0, \tValidation Loss: 14000124329984.0\n",
            "Epochs: 4000, \tTraining Loss: 10359512498176.0, \tValidation Loss: 12495918989312.0\n",
            "Epochs: 4500, \tTraining Loss: 9162589208576.0, \tValidation Loss: 11131586347008.0\n",
            "Epochs: 5000, \tTraining Loss: 8094707351552.0, \tValidation Loss: 9902178172928.0\n"
          ]
        }
      ]
    },
    {
      "cell_type": "markdown",
      "source": [
        "> *Trained with LR of* ***1e-2***"
      ],
      "metadata": {
        "id": "vwmz-sMZLcSm"
      }
    },
    {
      "cell_type": "code",
      "source": [
        "params = torch.tensor([1.0, 1.0, 1.0, 1.0, 1.0, 1.0, 1.0, 1.0, 1.0, 1.0, 1.0, 0.0], requires_grad=True)\n",
        "\n",
        "optimizer = optim.Adam([params], lr = 1e-2)\n",
        "\n",
        "print('Learning rate of 0.01')\n",
        "model, trainLoss, validLoss = lin_training(5000, optimizer, params, t_u_train, t_u_valid, t_c_train, t_c_valid)\n",
        "adam_trainLoss2 = np.array([item.detach().item() for item in trainLoss])\n",
        "adam_validLoss2 = np.array([item.detach().item() for item in validLoss])"
      ],
      "metadata": {
        "colab": {
          "base_uri": "https://localhost:8080/"
        },
        "id": "6KL-hWOtLZYp",
        "outputId": "6c159a9c-9d2a-4ec1-9a1d-c97b437fe8d5"
      },
      "execution_count": null,
      "outputs": [
        {
          "output_type": "stream",
          "name": "stdout",
          "text": [
            "Learning rate of 0.01\n",
            "Epochs: 500, \tTraining Loss: 25156024008704.0, \tValidation Loss: 28848760553472.0\n",
            "Epochs: 1000, \tTraining Loss: 24896541294592.0, \tValidation Loss: 28566326607872.0\n",
            "Epochs: 1500, \tTraining Loss: 24639130566656.0, \tValidation Loss: 28286050631680.0\n",
            "Epochs: 2000, \tTraining Loss: 24383684870144.0, \tValidation Loss: 28007815184384.0\n",
            "Epochs: 2500, \tTraining Loss: 24130088861696.0, \tValidation Loss: 27731504922624.0\n",
            "Epochs: 3000, \tTraining Loss: 23878277529600.0, \tValidation Loss: 27457038057472.0\n",
            "Epochs: 3500, \tTraining Loss: 23628181667840.0, \tValidation Loss: 27184349577216.0\n",
            "Epochs: 4000, \tTraining Loss: 23379753041920.0, \tValidation Loss: 26913376567296.0\n",
            "Epochs: 4500, \tTraining Loss: 23132947611648.0, \tValidation Loss: 26644081278976.0\n",
            "Epochs: 5000, \tTraining Loss: 22887736016896.0, \tValidation Loss: 26376419672064.0\n"
          ]
        }
      ]
    },
    {
      "cell_type": "markdown",
      "source": [
        "> *Trained with LR of* ***1e-3***"
      ],
      "metadata": {
        "id": "ybESC5IXLoVP"
      }
    },
    {
      "cell_type": "code",
      "source": [
        "params = torch.tensor([1.0, 1.0, 1.0, 1.0, 1.0, 1.0, 1.0, 1.0, 1.0, 1.0, 1.0, 0.0], requires_grad=True)\n",
        "\n",
        "optimizer = optim.Adam([params], lr = 1e-3)\n",
        "\n",
        "print('Learning rate of 0.001')\n",
        "model, trainLoss, validLoss = lin_training(5000, optimizer, params, t_u_train, t_u_valid, t_c_train, t_c_valid)\n",
        "adam_trainLoss3 = np.array([item.detach().item() for item in trainLoss])\n",
        "adam_validLoss3 = np.array([item.detach().item() for item in validLoss])"
      ],
      "metadata": {
        "colab": {
          "base_uri": "https://localhost:8080/"
        },
        "id": "Kd1RagU9Lfss",
        "outputId": "7c03d0a9-ffb4-4eec-b61e-19393055e870"
      },
      "execution_count": null,
      "outputs": [
        {
          "output_type": "stream",
          "name": "stdout",
          "text": [
            "Learning rate of 0.001\n",
            "Epochs: 500, \tTraining Loss: 25390961655808.0, \tValidation Loss: 29104403382272.0\n",
            "Epochs: 1000, \tTraining Loss: 25364717895680.0, \tValidation Loss: 29075846463488.0\n",
            "Epochs: 1500, \tTraining Loss: 25338493009920.0, \tValidation Loss: 29047312613376.0\n",
            "Epochs: 2000, \tTraining Loss: 25312286998528.0, \tValidation Loss: 29018799734784.0\n",
            "Epochs: 2500, \tTraining Loss: 25286097764352.0, \tValidation Loss: 28990305730560.0\n",
            "Epochs: 3000, \tTraining Loss: 25259931598848.0, \tValidation Loss: 28961830600704.0\n",
            "Epochs: 3500, \tTraining Loss: 25233780113408.0, \tValidation Loss: 28933376442368.0\n",
            "Epochs: 4000, \tTraining Loss: 25207643308032.0, \tValidation Loss: 28904936964096.0\n",
            "Epochs: 4500, \tTraining Loss: 25181523279872.0, \tValidation Loss: 28876512165888.0\n",
            "Epochs: 5000, \tTraining Loss: 25155420028928.0, \tValidation Loss: 28848104144896.0\n"
          ]
        }
      ]
    },
    {
      "cell_type": "markdown",
      "source": [
        "> *Trained with LR of* ***1e-4***"
      ],
      "metadata": {
        "id": "vP8ebFaoP4iF"
      }
    },
    {
      "cell_type": "code",
      "source": [
        "params = torch.tensor([1.0, 1.0, 1.0, 1.0, 1.0, 1.0, 1.0, 1.0, 1.0, 1.0, 1.0, 0.0], requires_grad=True)\n",
        "\n",
        "optimizer = optim.Adam([params], lr = 1e-4)\n",
        "\n",
        "print('Learning rate of 0.0001')\n",
        "model, trainLoss, validLoss = lin_training(5000, optimizer, params, t_u_train, t_u_valid, t_c_train, t_c_valid)\n",
        "adam_trainLoss4 = np.array([item.detach().item() for item in trainLoss])\n",
        "adam_validLoss4 = np.array([item.detach().item() for item in validLoss])"
      ],
      "metadata": {
        "colab": {
          "base_uri": "https://localhost:8080/"
        },
        "id": "Jr_RkbvYP1SZ",
        "outputId": "e3ae210b-5096-4d2c-cdf3-2804a03a8517"
      },
      "execution_count": null,
      "outputs": [
        {
          "output_type": "stream",
          "name": "stdout",
          "text": [
            "Learning rate of 0.0001\n",
            "Epochs: 500, \tTraining Loss: 25414558810112.0, \tValidation Loss: 29130066231296.0\n",
            "Epochs: 1000, \tTraining Loss: 25411933175808.0, \tValidation Loss: 29127207813120.0\n",
            "Epochs: 1500, \tTraining Loss: 25409299152896.0, \tValidation Loss: 29124351492096.0\n",
            "Epochs: 2000, \tTraining Loss: 25406671421440.0, \tValidation Loss: 29121490976768.0\n",
            "Epochs: 2500, \tTraining Loss: 25404043689984.0, \tValidation Loss: 29118630461440.0\n",
            "Epochs: 3000, \tTraining Loss: 25401415958528.0, \tValidation Loss: 29115772043264.0\n",
            "Epochs: 3500, \tTraining Loss: 25398788227072.0, \tValidation Loss: 29112913625088.0\n",
            "Epochs: 4000, \tTraining Loss: 25396160495616.0, \tValidation Loss: 29110059401216.0\n",
            "Epochs: 4500, \tTraining Loss: 25393536958464.0, \tValidation Loss: 29107200983040.0\n",
            "Epochs: 5000, \tTraining Loss: 25390909227008.0, \tValidation Loss: 29104338370560.0\n"
          ]
        }
      ]
    },
    {
      "cell_type": "markdown",
      "source": [
        "# **Linear Regression Loss Plots**"
      ],
      "metadata": {
        "id": "YNj0ESAvP980"
      }
    },
    {
      "cell_type": "markdown",
      "source": [
        "\n",
        ">**SGD Optimized Linear Model**\n"
      ],
      "metadata": {
        "id": "0BaItLDzVZOI"
      }
    },
    {
      "cell_type": "code",
      "source": [
        "plt.figure(figsize=(10, 10))\n",
        "plt.suptitle('Linear Regression Models utilizing all inputs and SGD Optimizer')\n",
        "\n",
        "plt.subplot(2,2,1)\n",
        "plt.grid(True)\n",
        "plt.plot(SGD_trainLoss1, color='blue')\n",
        "plt.plot(SGD_validLoss1, color='red')\n",
        "plt.title('Loss with Learning Rate of 1e-1')\n",
        "\n",
        "plt.subplot(2,2,2)\n",
        "plt.grid(True)\n",
        "plt.plot(SGD_trainLoss2, color='blue')\n",
        "plt.plot(SGD_validLoss2, color='red')\n",
        "plt.title('Loss with Learning Rate of 1e-2')\n",
        "\n",
        "plt.subplot(2,2,3)\n",
        "plt.grid(True)\n",
        "plt.plot(SGD_trainLoss3, color='blue')\n",
        "plt.plot(SGD_validLoss3, color='red')\n",
        "plt.title('Loss with Learning Rate of 1e-3')\n",
        "\n",
        "plt.subplot(2,2,4)\n",
        "plt.grid(True)\n",
        "plt.plot(SGD_trainLoss3, color='blue')\n",
        "plt.plot(SGD_validLoss3, color='red')\n",
        "plt.title('Loss with Learning Rate of 1e-4')\n",
        "\n",
        "plt.tight_layout()\n",
        "plt.show()"
      ],
      "metadata": {
        "id": "8B9LXY1CP7YM",
        "colab": {
          "base_uri": "https://localhost:8080/",
          "height": 654
        },
        "outputId": "c9347ed7-5324-4e42-8456-0110d0c9c046"
      },
      "execution_count": 16,
      "outputs": [
        {
          "output_type": "display_data",
          "data": {
            "text/plain": [
              "<Figure size 1000x1000 with 4 Axes>"
            ],
            "image/png": "[encoded data removed]"
          },
          "metadata": {}
        }
      ]
    }
  ]
}