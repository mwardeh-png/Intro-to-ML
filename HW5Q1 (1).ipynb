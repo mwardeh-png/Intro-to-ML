{
  "nbformat": 4,
  "nbformat_minor": 0,
  "metadata": {
    "colab": {
      "provenance": []
    },
    "kernelspec": {
      "name": "python3",
      "display_name": "Python 3"
    },
    "language_info": {
      "name": "python"
    }
  },
  "cells": [
    {
      "cell_type": "code",
      "execution_count": 1,
      "metadata": {
        "id": "nmjMWo8OZucS"
      },
      "outputs": [],
      "source": [
        "import matplotlib.pyplot as plt\n",
        "import torch.optim as optim\n",
        "import torch"
      ]
    },
    {
      "cell_type": "markdown",
      "source": [
        "# **Pre-processing**"
      ],
      "metadata": {
        "id": "WkWC0Y0Vbs4n"
      }
    },
    {
      "cell_type": "markdown",
      "source": [
        "> **Separating desired Features and Outputs**"
      ],
      "metadata": {
        "id": "oo3X4IZQpoBM"
      }
    },
    {
      "cell_type": "code",
      "source": [
        "x = [0.5, 14.0, 15.0, 28.0, 11.0, 8.0, 3.0, -4.0, 6.0, 13.0, 21.0]      # Y\n",
        "y = [35.7, 55.9, 58.2, 81.9, 56.3, 48.9, 33.9, 21.8, 48.4, 60.4, 68.4]  # X\n",
        "\n",
        "t_c = torch.tensor(y)\n",
        "t_u = torch.tensor(x)\n",
        "\n",
        "\n",
        "t_un = 0.1 * t_u"
      ],
      "metadata": {
        "id": "ZCe0oIzKZw15"
      },
      "execution_count": 2,
      "outputs": []
    },
    {
      "cell_type": "markdown",
      "source": [
        "> **Splitting Training and Validation Set**\n"
      ],
      "metadata": {
        "id": "VtIvO193b0yY"
      }
    },
    {
      "cell_type": "code",
      "source": [
        "samples = t_u.shape[0]\n",
        "values = int(0.2 * samples)\n",
        "\n",
        "shuffle = torch.randperm(samples)\n",
        "train_idx = shuffle[:-values]\n",
        "valid_idx = shuffle[-values:]\n",
        "\n",
        "t_u_train = t_u[train_idx]\n",
        "t_u_valid = t_u[valid_idx]\n",
        "\n",
        "t_un_train = t_un[train_idx]\n",
        "t_un_valid = t_un[valid_idx]\n",
        "\n",
        "t_c_train = t_c[train_idx]\n",
        "t_c_valid = t_c[valid_idx]\n"
      ],
      "metadata": {
        "id": "RsTkw3NZZ2Bg"
      },
      "execution_count": 3,
      "outputs": []
    },
    {
      "cell_type": "markdown",
      "source": [
        "# **Training**"
      ],
      "metadata": {
        "id": "ODplq1C-pvde"
      }
    },
    {
      "cell_type": "markdown",
      "source": [
        "\n",
        "\n",
        "> **Linear Regression Training**\n",
        "\n",
        "\n"
      ],
      "metadata": {
        "id": "9xibR-NRp_Pv"
      }
    },
    {
      "cell_type": "code",
      "source": [
        "def lin_model(t_u, w, b):\n",
        "  return w*t_u + b\n",
        "\n",
        "def lin_training(epochs, optimizer, params, t_u_train, t_u_valid, t_c_train, t_c_valid):\n",
        "  for epoch in range(1, epochs+1):\n",
        "    t_p_train = lin_model(t_u_train, *params)\n",
        "    train_loss = cost(t_p_train, t_c_train)\n",
        "\n",
        "    t_p_valid = lin_model(t_u_valid, *params)\n",
        "    valid_loss = cost(t_p_valid, t_c_valid)\n",
        "\n",
        "    optimizer.zero_grad()\n",
        "    train_loss.backward()\n",
        "    optimizer.step()\n",
        "\n",
        "    if epoch % 500 == 0:\n",
        "      print(f'Epochs: {epoch}, \\tTraining Loss: {train_loss:.6f}, \\tValidation Loss: {valid_loss:.6f}')\n",
        "  print('')\n",
        "  return params"
      ],
      "metadata": {
        "id": "1VAo6CylZ4-T"
      },
      "execution_count": 4,
      "outputs": []
    },
    {
      "cell_type": "markdown",
      "source": [
        "\n",
        "\n",
        "> **Non-linear Regression Training**\n",
        "\n",
        "\n"
      ],
      "metadata": {
        "id": "hbtqyKKEqEEg"
      }
    },
    {
      "cell_type": "code",
      "source": [
        "def nonlin_model(t_u, w2, w1, b):\n",
        "  return w2*t_u**2 + w1*t_u + b\n",
        "\n",
        "def cost(t_p, t_c):\n",
        "  squared_diffs = (t_p - t_c)**2\n",
        "  return squared_diffs.mean()\n",
        "\n",
        "def nonlin_training(epochs, optimizer, params, t_u_train, t_u_valid, t_c_train, t_c_valid):\n",
        "  for epoch in range(1, epochs+1):\n",
        "    t_p_train = nonlin_model(t_u_train, *params)\n",
        "    train_loss = cost(t_p_train, t_c_train)\n",
        "\n",
        "    t_p_valid = nonlin_model(t_u_valid, *params)\n",
        "    valid_loss = cost(t_p_valid, t_c_valid)\n",
        "\n",
        "    optimizer.zero_grad()\n",
        "    train_loss.backward()\n",
        "    optimizer.step()\n",
        "\n",
        "    if epoch % 500 == 0:\n",
        "      print(f'Epochs: {epoch}, \\tTraining Loss: {train_loss:}, \\tValidation Loss: {valid_loss}')\n",
        "  print('')\n",
        "  return params"
      ],
      "metadata": {
        "id": "GU1TgVJxZ8V8"
      },
      "execution_count": 5,
      "outputs": []
    },
    {
      "cell_type": "markdown",
      "source": [
        "# **SGD Optimized Linear Model**"
      ],
      "metadata": {
        "id": "a0JkIrZMqH-o"
      }
    },
    {
      "cell_type": "markdown",
      "source": [
        "> *Trained with LR of* ***1e-1***"
      ],
      "metadata": {
        "id": "_sBRS1RhqMtY"
      }
    },
    {
      "cell_type": "code",
      "source": [
        "params = torch.tensor([1.0, 1.0, 0.0], requires_grad=True)\n",
        "\n",
        "optimizer = optim.SGD([params], lr = 1e-1)\n",
        "\n",
        "print('Learning rate of 0.1')\n",
        "nonlin_training(5000, optimizer, params, t_un_train, t_un_valid, t_c_train, t_c_valid)"
      ],
      "metadata": {
        "colab": {
          "base_uri": "https://localhost:8080/"
        },
        "id": "CcHgpYu1aAJg",
        "outputId": "5e7f0dea-38e7-48d3-c7bb-c0707f813440"
      },
      "execution_count": 6,
      "outputs": [
        {
          "output_type": "stream",
          "name": "stdout",
          "text": [
            "Learning rate of 0.1\n",
            "Epochs: 500, \tTraining Loss: nan, \tValidation Loss: nan\n",
            "Epochs: 1000, \tTraining Loss: nan, \tValidation Loss: nan\n",
            "Epochs: 1500, \tTraining Loss: nan, \tValidation Loss: nan\n",
            "Epochs: 2000, \tTraining Loss: nan, \tValidation Loss: nan\n",
            "Epochs: 2500, \tTraining Loss: nan, \tValidation Loss: nan\n",
            "Epochs: 3000, \tTraining Loss: nan, \tValidation Loss: nan\n",
            "Epochs: 3500, \tTraining Loss: nan, \tValidation Loss: nan\n",
            "Epochs: 4000, \tTraining Loss: nan, \tValidation Loss: nan\n",
            "Epochs: 4500, \tTraining Loss: nan, \tValidation Loss: nan\n",
            "Epochs: 5000, \tTraining Loss: nan, \tValidation Loss: nan\n",
            "\n"
          ]
        },
        {
          "output_type": "execute_result",
          "data": {
            "text/plain": [
              "tensor([nan, nan, nan], requires_grad=True)"
            ]
          },
          "metadata": {},
          "execution_count": 6
        }
      ]
    },
    {
      "cell_type": "markdown",
      "source": [
        "> *Trained with LR of* ***1e-2***"
      ],
      "metadata": {
        "id": "6zoMIvBhqSDc"
      }
    },
    {
      "cell_type": "code",
      "source": [
        "params = torch.tensor([1.0, 1.0, 0.0], requires_grad=True)\n",
        "\n",
        "optimizer = optim.SGD([params], lr = 1e-2)\n",
        "\n",
        "print('Learning rate of 0.01')\n",
        "nonlin_training(5000, optimizer, params, t_un_train, t_un_valid, t_c_train, t_c_valid)"
      ],
      "metadata": {
        "colab": {
          "base_uri": "https://localhost:8080/"
        },
        "id": "8srB-kQAaEj7",
        "outputId": "cc3820fb-6f7a-456c-82c1-4941d0a05e41"
      },
      "execution_count": 7,
      "outputs": [
        {
          "output_type": "stream",
          "name": "stdout",
          "text": [
            "Learning rate of 0.01\n",
            "Epochs: 500, \tTraining Loss: 7.123839378356934, \tValidation Loss: 13.148832321166992\n",
            "Epochs: 1000, \tTraining Loss: 6.372707843780518, \tValidation Loss: 13.93317699432373\n",
            "Epochs: 1500, \tTraining Loss: 6.296506881713867, \tValidation Loss: 14.306702613830566\n",
            "Epochs: 2000, \tTraining Loss: 6.288731098175049, \tValidation Loss: 14.43221664428711\n",
            "Epochs: 2500, \tTraining Loss: 6.287940979003906, \tValidation Loss: 14.472928047180176\n",
            "Epochs: 3000, \tTraining Loss: 6.287864685058594, \tValidation Loss: 14.485955238342285\n",
            "Epochs: 3500, \tTraining Loss: 6.287851333618164, \tValidation Loss: 14.490069389343262\n",
            "Epochs: 4000, \tTraining Loss: 6.287851333618164, \tValidation Loss: 14.491445541381836\n",
            "Epochs: 4500, \tTraining Loss: 6.287856101989746, \tValidation Loss: 14.491710662841797\n",
            "Epochs: 5000, \tTraining Loss: 6.287856101989746, \tValidation Loss: 14.491710662841797\n",
            "\n"
          ]
        },
        {
          "output_type": "execute_result",
          "data": {
            "text/plain": [
              "tensor([-1.6386, 22.1287, 31.5716], requires_grad=True)"
            ]
          },
          "metadata": {},
          "execution_count": 7
        }
      ]
    },
    {
      "cell_type": "markdown",
      "source": [
        "> *Trained with LR of* ***1e-3***"
      ],
      "metadata": {
        "id": "dT2QHWUjqlPy"
      }
    },
    {
      "cell_type": "code",
      "source": [
        "params = torch.tensor([1.0, 1.0, 0.0], requires_grad=True)\n",
        "\n",
        "optimizer = optim.SGD([params], lr = 1e-3)\n",
        "\n",
        "print('Learning rate of 0.001')\n",
        "nonlin_training(5000, optimizer, params, t_un_train, t_un_valid, t_c_train, t_c_valid)"
      ],
      "metadata": {
        "colab": {
          "base_uri": "https://localhost:8080/"
        },
        "id": "sdBRA-KMaQks",
        "outputId": "51a8fa22-93f3-45bb-8e90-72945b1040df"
      },
      "execution_count": 8,
      "outputs": [
        {
          "output_type": "stream",
          "name": "stdout",
          "text": [
            "Learning rate of 0.001\n",
            "Epochs: 500, \tTraining Loss: 235.511474609375, \tValidation Loss: 330.04998779296875\n",
            "Epochs: 1000, \tTraining Loss: 78.0159912109375, \tValidation Loss: 121.86064147949219\n",
            "Epochs: 1500, \tTraining Loss: 30.28636360168457, \tValidation Loss: 52.551815032958984\n",
            "Epochs: 2000, \tTraining Loss: 15.498435020446777, \tValidation Loss: 28.22511100769043\n",
            "Epochs: 2500, \tTraining Loss: 10.66296672821045, \tValidation Loss: 19.13511085510254\n",
            "Epochs: 3000, \tTraining Loss: 8.88688850402832, \tValidation Loss: 15.525676727294922\n",
            "Epochs: 3500, \tTraining Loss: 8.092720985412598, \tValidation Loss: 14.033479690551758\n",
            "Epochs: 4000, \tTraining Loss: 7.645705223083496, \tValidation Loss: 13.421213150024414\n",
            "Epochs: 4500, \tTraining Loss: 7.345213890075684, \tValidation Loss: 13.198163986206055\n",
            "Epochs: 5000, \tTraining Loss: 7.122550010681152, \tValidation Loss: 13.154495239257812\n",
            "\n"
          ]
        },
        {
          "output_type": "execute_result",
          "data": {
            "text/plain": [
              "tensor([-0.7791, 19.7220, 32.4399], requires_grad=True)"
            ]
          },
          "metadata": {},
          "execution_count": 8
        }
      ]
    },
    {
      "cell_type": "markdown",
      "source": [
        "> *Trained with LR of* ***1e-4***"
      ],
      "metadata": {
        "id": "23y5wXh9q4Bo"
      }
    },
    {
      "cell_type": "code",
      "source": [
        "params = torch.tensor([1.0, 1.0, 0.0], requires_grad=True)\n",
        "\n",
        "optimizer = optim.SGD([params], lr = 1e-4)\n",
        "\n",
        "print('Learning rate of 0.0001')\n",
        "nonlin_training(5000, optimizer, params, t_un_train, t_un_valid, t_c_train, t_c_valid)"
      ],
      "metadata": {
        "colab": {
          "base_uri": "https://localhost:8080/"
        },
        "id": "T03qcdILaWed",
        "outputId": "3357a94a-68bd-481e-c860-c84a91d35a97"
      },
      "execution_count": 9,
      "outputs": [
        {
          "output_type": "stream",
          "name": "stdout",
          "text": [
            "Learning rate of 0.0001\n",
            "Epochs: 500, \tTraining Loss: 826.252685546875, \tValidation Loss: 1196.49560546875\n",
            "Epochs: 1000, \tTraining Loss: 610.9818115234375, \tValidation Loss: 862.4915161132812\n",
            "Epochs: 1500, \tTraining Loss: 532.6795654296875, \tValidation Loss: 722.0372314453125\n",
            "Epochs: 2000, \tTraining Loss: 472.6623229980469, \tValidation Loss: 633.7471313476562\n",
            "Epochs: 2500, \tTraining Loss: 420.2387390136719, \tValidation Loss: 564.607421875\n",
            "Epochs: 3000, \tTraining Loss: 373.8260498046875, \tValidation Loss: 505.5382385253906\n",
            "Epochs: 3500, \tTraining Loss: 332.6810302734375, \tValidation Loss: 453.5679931640625\n",
            "Epochs: 4000, \tTraining Loss: 296.2005310058594, \tValidation Loss: 407.41192626953125\n",
            "Epochs: 4500, \tTraining Loss: 263.8536682128906, \tValidation Loss: 366.2909240722656\n",
            "Epochs: 5000, \tTraining Loss: 235.17083740234375, \tValidation Loss: 329.61248779296875\n",
            "\n"
          ]
        },
        {
          "output_type": "execute_result",
          "data": {
            "text/plain": [
              "tensor([ 6.6625, 10.5951, 16.6306], requires_grad=True)"
            ]
          },
          "metadata": {},
          "execution_count": 9
        }
      ]
    },
    {
      "cell_type": "markdown",
      "source": [
        "# **Adam Optimized Linear Model**"
      ],
      "metadata": {
        "id": "uL-6Ya2Euobo"
      }
    },
    {
      "cell_type": "markdown",
      "source": [
        "> *Trained with LR of* ***1e-1***"
      ],
      "metadata": {
        "id": "-J7ZdGCfuuk9"
      }
    },
    {
      "cell_type": "code",
      "source": [
        "params = torch.tensor([1.0, 1.0, 0.0], requires_grad=True)\n",
        "\n",
        "optimizer = optim.Adam([params], lr = 1e-2)\n",
        "\n",
        "print('Learning rate of 0.01')\n",
        "nonlin_training(5000, optimizer, params, t_u_train, t_u_valid, t_c_train, t_c_valid)"
      ],
      "metadata": {
        "colab": {
          "base_uri": "https://localhost:8080/"
        },
        "id": "9clLKDVzaa3W",
        "outputId": "e71a3562-ad3a-4372-a874-c44160fbc1ea"
      },
      "execution_count": 10,
      "outputs": [
        {
          "output_type": "stream",
          "name": "stdout",
          "text": [
            "Learning rate of 0.01\n",
            "Epochs: 500, \tTraining Loss: 833.431396484375, \tValidation Loss: 1116.967041015625\n",
            "Epochs: 1000, \tTraining Loss: 601.8871459960938, \tValidation Loss: 787.442138671875\n",
            "Epochs: 1500, \tTraining Loss: 396.5606994628906, \tValidation Loss: 493.138427734375\n",
            "Epochs: 2000, \tTraining Loss: 248.8841094970703, \tValidation Loss: 281.82952880859375\n",
            "Epochs: 2500, \tTraining Loss: 157.79029846191406, \tValidation Loss: 155.215576171875\n",
            "Epochs: 3000, \tTraining Loss: 106.0537338256836, \tValidation Loss: 90.5863037109375\n",
            "Epochs: 3500, \tTraining Loss: 74.96377563476562, \tValidation Loss: 60.61781692504883\n",
            "Epochs: 4000, \tTraining Loss: 52.95804977416992, \tValidation Loss: 45.86295700073242\n",
            "Epochs: 4500, \tTraining Loss: 35.92521286010742, \tValidation Loss: 36.812782287597656\n",
            "Epochs: 5000, \tTraining Loss: 23.24346351623535, \tValidation Loss: 30.08030128479004\n",
            "\n"
          ]
        },
        {
          "output_type": "execute_result",
          "data": {
            "text/plain": [
              "tensor([-0.0346,  2.9434, 25.1706], requires_grad=True)"
            ]
          },
          "metadata": {},
          "execution_count": 10
        }
      ]
    },
    {
      "cell_type": "markdown",
      "source": [
        "> *Trained with LR of* ***1e-2***"
      ],
      "metadata": {
        "id": "SwlBz_g9u_GN"
      }
    },
    {
      "cell_type": "code",
      "source": [
        "params = torch.tensor([1.0, 1.0, 0.0], requires_grad=True)\n",
        "\n",
        "optimizer = optim.Adam([params], lr = 1e-3)\n",
        "\n",
        "print('Learning rate of 0.01')\n",
        "nonlin_training(5000, optimizer, params, t_u_train, t_u_valid, t_c_train, t_c_valid)"
      ],
      "metadata": {
        "colab": {
          "base_uri": "https://localhost:8080/"
        },
        "id": "WGvqrIBlamHc",
        "outputId": "4459066e-5302-4999-8a10-1814b74587c6"
      },
      "execution_count": 11,
      "outputs": [
        {
          "output_type": "stream",
          "name": "stdout",
          "text": [
            "Learning rate of 0.01\n",
            "Epochs: 500, \tTraining Loss: 21655.09375, \tValidation Loss: 2342.28173828125\n",
            "Epochs: 1000, \tTraining Loss: 3981.4638671875, \tValidation Loss: 682.2313232421875\n",
            "Epochs: 1500, \tTraining Loss: 1160.819091796875, \tValidation Loss: 1019.87451171875\n",
            "Epochs: 2000, \tTraining Loss: 948.8744506835938, \tValidation Loss: 1226.1595458984375\n",
            "Epochs: 2500, \tTraining Loss: 919.3092651367188, \tValidation Loss: 1234.540771484375\n",
            "Epochs: 3000, \tTraining Loss: 889.2516479492188, \tValidation Loss: 1195.6004638671875\n",
            "Epochs: 3500, \tTraining Loss: 854.3563842773438, \tValidation Loss: 1145.831298828125\n",
            "Epochs: 4000, \tTraining Loss: 814.7556762695312, \tValidation Loss: 1088.531982421875\n",
            "Epochs: 4500, \tTraining Loss: 770.7183837890625, \tValidation Loss: 1023.95361328125\n",
            "Epochs: 5000, \tTraining Loss: 722.689453125, \tValidation Loss: 952.5093383789062\n",
            "\n"
          ]
        },
        {
          "output_type": "execute_result",
          "data": {
            "text/plain": [
              "tensor([0.1021, 0.8552, 1.9107], requires_grad=True)"
            ]
          },
          "metadata": {},
          "execution_count": 11
        }
      ]
    },
    {
      "cell_type": "markdown",
      "source": [
        "> *Trained with LR of* ***1e-3***"
      ],
      "metadata": {
        "id": "PMABPcRqv6EL"
      }
    },
    {
      "cell_type": "code",
      "source": [
        "params = torch.tensor([1.0, 1.0, 0.0], requires_grad=True)\n",
        "\n",
        "optimizer = optim.Adam([params], lr = 1e-4)\n",
        "\n",
        "print('Learning rate of 0.01')\n",
        "nonlin_training(5000, optimizer, params, t_u_train, t_u_valid, t_c_train, t_c_valid)"
      ],
      "metadata": {
        "colab": {
          "base_uri": "https://localhost:8080/"
        },
        "id": "QOiWnlXuapVU",
        "outputId": "086074ed-3ea4-49b0-e193-1d2c826c11d1"
      },
      "execution_count": 12,
      "outputs": [
        {
          "output_type": "stream",
          "name": "stdout",
          "text": [
            "Learning rate of 0.01\n",
            "Epochs: 500, \tTraining Loss: 73579.3203125, \tValidation Loss: 10361.9931640625\n",
            "Epochs: 1000, \tTraining Loss: 65236.328125, \tValidation Loss: 8974.8759765625\n",
            "Epochs: 1500, \tTraining Loss: 57575.70703125, \tValidation Loss: 7723.1025390625\n",
            "Epochs: 2000, \tTraining Loss: 50542.82421875, \tValidation Loss: 6596.21533203125\n",
            "Epochs: 2500, \tTraining Loss: 44093.3359375, \tValidation Loss: 5585.71923828125\n",
            "Epochs: 3000, \tTraining Loss: 38191.609375, \tValidation Loss: 4684.703125\n",
            "Epochs: 3500, \tTraining Loss: 32808.91015625, \tValidation Loss: 3887.51953125\n",
            "Epochs: 4000, \tTraining Loss: 27921.888671875, \tValidation Loss: 3189.420166015625\n",
            "Epochs: 4500, \tTraining Loss: 23511.103515625, \tValidation Loss: 2586.281982421875\n",
            "Epochs: 5000, \tTraining Loss: 19559.6640625, \tValidation Loss: 2074.3203125\n",
            "\n"
          ]
        },
        {
          "output_type": "execute_result",
          "data": {
            "text/plain": [
              "tensor([ 0.5492,  0.5512, -0.4401], requires_grad=True)"
            ]
          },
          "metadata": {},
          "execution_count": 12
        }
      ]
    },
    {
      "cell_type": "markdown",
      "source": [
        "> *Trained with LR of* ***1e-4***"
      ],
      "metadata": {
        "id": "bNJ-ntlxv-Gg"
      }
    },
    {
      "cell_type": "code",
      "source": [
        "params = torch.tensor([1.0, 1.0, 0.0], requires_grad=True)\n",
        "\n",
        "optimizer = optim.Adam([params], lr = 1e-4)\n",
        "\n",
        "print('Learning rate of 0.01')\n",
        "nonlin_training(5000, optimizer, params, t_u_train, t_u_valid, t_c_train, t_c_valid)"
      ],
      "metadata": {
        "colab": {
          "base_uri": "https://localhost:8080/"
        },
        "id": "Y7TMjIaBwVSl",
        "outputId": "a12ef9d9-8015-4b98-fdaa-f965de0b02bc"
      },
      "execution_count": 16,
      "outputs": [
        {
          "output_type": "stream",
          "name": "stdout",
          "text": [
            "Learning rate of 0.01\n",
            "Epochs: 500, \tTraining Loss: 73579.3203125, \tValidation Loss: 10361.9931640625\n",
            "Epochs: 1000, \tTraining Loss: 65236.328125, \tValidation Loss: 8974.8759765625\n",
            "Epochs: 1500, \tTraining Loss: 57575.70703125, \tValidation Loss: 7723.1025390625\n",
            "Epochs: 2000, \tTraining Loss: 50542.82421875, \tValidation Loss: 6596.21533203125\n",
            "Epochs: 2500, \tTraining Loss: 44093.3359375, \tValidation Loss: 5585.71923828125\n",
            "Epochs: 3000, \tTraining Loss: 38191.609375, \tValidation Loss: 4684.703125\n",
            "Epochs: 3500, \tTraining Loss: 32808.91015625, \tValidation Loss: 3887.51953125\n",
            "Epochs: 4000, \tTraining Loss: 27921.888671875, \tValidation Loss: 3189.420166015625\n",
            "Epochs: 4500, \tTraining Loss: 23511.103515625, \tValidation Loss: 2586.281982421875\n",
            "Epochs: 5000, \tTraining Loss: 19559.6640625, \tValidation Loss: 2074.3203125\n",
            "\n"
          ]
        },
        {
          "output_type": "execute_result",
          "data": {
            "text/plain": [
              "tensor([ 0.5492,  0.5512, -0.4401], requires_grad=True)"
            ]
          },
          "metadata": {},
          "execution_count": 16
        }
      ]
    },
    {
      "cell_type": "markdown",
      "source": [
        "# **Plotting SGD Optimized Linear vs Nonlinear Models**"
      ],
      "metadata": {
        "id": "21ct2D5_wbZj"
      }
    },
    {
      "cell_type": "code",
      "source": [
        "lin_params = torch.tensor([1.0, 0.0], requires_grad=True)\n",
        "nonlin_params = torch.tensor([1.0, 1.0, 0.0], requires_grad=True)\n",
        "\n",
        "lin_optimizer = optim.SGD([lin_params], lr = 1e-3)\n",
        "SGD = optim.SGD([nonlin_params], lr = 1e-2)\n",
        "\n",
        "lin = lin_training(5000, lin_optimizer, lin_params, t_u_train, t_u_valid, t_c_train, t_c_valid)\n",
        "nonlin_SGD = nonlin_training(5000, SGD, nonlin_params, t_un_train, t_un_valid, t_c_train, t_c_valid)\n",
        "\n",
        "t_p_lin = lin_model(t_u, *lin).detach().numpy()\n",
        "t_p_nonSGD = nonlin_model(t_un, *nonlin_SGD).detach().numpy()\n",
        "\n",
        "plt.scatter(t_u, t_c, label = 'Data points')\n",
        "plt.plot(t_u, t_p_lin, label = 'SGD Linear Model')\n",
        "plt.plot(t_u, t_p_nonSGD, label = 'SGD Optimized Non-linear Model')\n",
        "\n",
        "plt.legend()\n",
        "plt.xlabel('Input (t_u)')\n",
        "plt.ylabel('Temperature (t_c)')\n",
        "plt.title('Non-linear vs Linear Model')\n",
        "plt.grid(True)\n",
        "plt.show()"
      ],
      "metadata": {
        "colab": {
          "base_uri": "https://localhost:8080/",
          "height": 865
        },
        "id": "sXrKLqdOasPb",
        "outputId": "700a11fc-7f0b-437d-f969-f6f18a49d116"
      },
      "execution_count": 15,
      "outputs": [
        {
          "output_type": "stream",
          "name": "stdout",
          "text": [
            "Epochs: 500, \tTraining Loss: 199.027573, \tValidation Loss: 191.884567\n",
            "Epochs: 1000, \tTraining Loss: 86.925591, \tValidation Loss: 101.761375\n",
            "Epochs: 1500, \tTraining Loss: 40.890854, \tValidation Loss: 59.692963\n",
            "Epochs: 2000, \tTraining Loss: 21.986753, \tValidation Loss: 39.175587\n",
            "Epochs: 2500, \tTraining Loss: 14.223665, \tValidation Loss: 28.672363\n",
            "Epochs: 3000, \tTraining Loss: 11.035760, \tValidation Loss: 23.027853\n",
            "Epochs: 3500, \tTraining Loss: 9.726681, \tValidation Loss: 19.856865\n",
            "Epochs: 4000, \tTraining Loss: 9.189117, \tValidation Loss: 18.007959\n",
            "Epochs: 4500, \tTraining Loss: 8.968355, \tValidation Loss: 16.898342\n",
            "Epochs: 5000, \tTraining Loss: 8.877696, \tValidation Loss: 16.218204\n",
            "\n",
            "Epochs: 500, \tTraining Loss: 7.123839378356934, \tValidation Loss: 13.148832321166992\n",
            "Epochs: 1000, \tTraining Loss: 6.372707843780518, \tValidation Loss: 13.93317699432373\n",
            "Epochs: 1500, \tTraining Loss: 6.296506881713867, \tValidation Loss: 14.306702613830566\n",
            "Epochs: 2000, \tTraining Loss: 6.288731098175049, \tValidation Loss: 14.43221664428711\n",
            "Epochs: 2500, \tTraining Loss: 6.287940979003906, \tValidation Loss: 14.472928047180176\n",
            "Epochs: 3000, \tTraining Loss: 6.287864685058594, \tValidation Loss: 14.485955238342285\n",
            "Epochs: 3500, \tTraining Loss: 6.287851333618164, \tValidation Loss: 14.490069389343262\n",
            "Epochs: 4000, \tTraining Loss: 6.287851333618164, \tValidation Loss: 14.491445541381836\n",
            "Epochs: 4500, \tTraining Loss: 6.287856101989746, \tValidation Loss: 14.491710662841797\n",
            "Epochs: 5000, \tTraining Loss: 6.287856101989746, \tValidation Loss: 14.491710662841797\n",
            "\n"
          ]
        },
        {
          "output_type": "display_data",
          "data": {
            "text/plain": [
              "<Figure size 640x480 with 1 Axes>"
            ],
            "image/png": "[encoded data removed]"
          },
          "metadata": {}
        }
      ]
    },
    {
      "cell_type": "code",
      "source": [],
      "metadata": {
        "id": "283l-8d4ax81"
      },
      "execution_count": null,
      "outputs": []
    }
  ]
}