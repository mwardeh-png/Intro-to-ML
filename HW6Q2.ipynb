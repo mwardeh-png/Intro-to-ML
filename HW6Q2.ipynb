{
  "nbformat": 4,
  "nbformat_minor": 0,
  "metadata": {
    "colab": {
      "provenance": []
    },
    "kernelspec": {
      "name": "python3",
      "display_name": "Python 3"
    },
    "language_info": {
      "name": "python"
    }
  },
  "cells": [
    {
      "cell_type": "code",
      "execution_count": null,
      "metadata": {
        "colab": {
          "base_uri": "https://localhost:8080/"
        },
        "id": "PvOrtGwZeXpB",
        "outputId": "a3fb5cc7-0492-4a4e-ebf9-cd4e20e46868"
      },
      "outputs": [
        {
          "output_type": "stream",
          "name": "stdout",
          "text": [
            "Files already downloaded and verified\n"
          ]
        }
      ],
      "source": [
        "from torchvision import datasets, transforms\n",
        "from torch.utils.data import DataLoader\n",
        "import torch.optim as optim\n",
        "import torch.nn as nn\n",
        "import torch\n",
        "import time\n",
        "\n",
        "datapath = '../data-unversions/p1ch7/'\n",
        "cifar10 = datasets.CIFAR10(root= datapath, train=True, download = True, transform=transforms.ToTensor())"
      ]
    },
    {
      "cell_type": "markdown",
      "source": [
        "# **Pre-processing and Training**"
      ],
      "metadata": {
        "id": "ygORh9q45lTj"
      }
    },
    {
      "cell_type": "markdown",
      "source": [
        "\n",
        "> **Separating desired Features and Outputs**\n"
      ],
      "metadata": {
        "id": "gsx9xEQu5nKY"
      }
    },
    {
      "cell_type": "code",
      "source": [
        "imgs = torch.stack([img_t for img_t, _ in cifar10], dim=3)\n",
        "mean = imgs.view(3, -1).mean(dim=1)\n",
        "std = imgs.view(3, -1).std(dim=1)\n",
        "\n",
        "normalize = transforms.Compose([transforms.ToTensor(),transforms.Normalize(mean,std)])\n",
        "\n",
        "train_data = datasets.CIFAR10(root= datapath, train=True, download = True, transform=normalize)\n",
        "cifar10_train = torch.utils.data.DataLoader(train_data, batch_size=64, shuffle=True)\n",
        "\n",
        "valid_data = datasets.CIFAR10(root= datapath, train=False, download = True, transform=normalize)\n",
        "cifar10_valid = torch.utils.data.DataLoader(valid_data, batch_size=64, shuffle=True)\n"
      ],
      "metadata": {
        "colab": {
          "base_uri": "https://localhost:8080/"
        },
        "id": "LAx83ISrmmho",
        "outputId": "6ec0123f-e821-4ca0-ad2e-0a27f0b4e8ed"
      },
      "execution_count": null,
      "outputs": [
        {
          "output_type": "stream",
          "name": "stdout",
          "text": [
            "Files already downloaded and verified\n",
            "Files already downloaded and verified\n"
          ]
        }
      ]
    },
    {
      "cell_type": "markdown",
      "source": [
        "\n",
        "> **Training and Validation Loop**\n"
      ],
      "metadata": {
        "id": "AV0lgII85O1U"
      }
    },
    {
      "cell_type": "code",
      "source": [
        "def training(epochs, optimizer, model, loss_fn, train_set, valid_set):\n",
        "  trainStart = time.time()\n",
        "  for epoch in range(epochs+1):\n",
        "    for imgs, labels in train_set:\n",
        "      batch = imgs.shape[0]\n",
        "      outputs = model(imgs.view(batch, -1))\n",
        "      train_loss = loss_fn(outputs, labels)\n",
        "\n",
        "      optimizer.zero_grad()\n",
        "      train_loss.backward()\n",
        "      optimizer.step()\n",
        "\n",
        "    if epoch % 50 == 0:\n",
        "      print(\"Epoch: %d, Training Loss: %f\" % (epoch, float(train_loss)))\n",
        "  trainStop = time.time()\n",
        "  trainDuration = trainStop - trainStart\n",
        "\n",
        "  print(f'Total Training Time: {trainDuration} seconds')\n",
        "\n",
        "### Validation Evaluation ###\n",
        "\n",
        "  total = 0\n",
        "  correctClass = 0\n",
        "  validStart = time.time()\n",
        "  with torch.no_grad():\n",
        "    for imgs, labels in valid_set:\n",
        "      batch = imgs.shape[0]\n",
        "      outputs = model(imgs.view(batch, -1))\n",
        "      _, predicted = torch.max(outputs, dim=1)\n",
        "      total += labels.shape[0]\n",
        "      correctClass += int((predicted == labels).sum())\n",
        "\n",
        "  validStop = time.time()\n",
        "  validDuration = validStop - validStart\n",
        "\n",
        "  print(f'\\nValidation Accuracy: {(correctClass/total) * 100}%')\n",
        "  print(f'Total Validation Time: {validDuration} seconds')\n",
        "  print(f'Total Runtime: {trainDuration + validDuration} seconds')"
      ],
      "metadata": {
        "id": "Frdo4LLA5ROF"
      },
      "execution_count": null,
      "outputs": []
    },
    {
      "cell_type": "markdown",
      "source": [
        "**2a. SGD Optimized Neural Network with 1 hidden layer**"
      ],
      "metadata": {
        "id": "ektjSxvE5_oO"
      }
    },
    {
      "cell_type": "code",
      "source": [
        "seq_model = nn.Sequential(\n",
        "    nn.Linear(3072, 512),\n",
        "    nn.ReLU(),\n",
        "    nn.Linear(512, 10))\n",
        "\n",
        "optimizer = optim.SGD(seq_model.parameters(), lr=1e-3)\n",
        "\n",
        "training(\n",
        "    epochs = 300,\n",
        "    optimizer = optimizer,\n",
        "    model = seq_model,\n",
        "    loss_fn = nn.CrossEntropyLoss(),\n",
        "    train_set = cifar10_train,\n",
        "    valid_set = cifar10_valid\n",
        ")"
      ],
      "metadata": {
        "colab": {
          "base_uri": "https://localhost:8080/"
        },
        "id": "qs899VfB5ih0",
        "outputId": "313ae021-3699-4b4e-98b2-a64ba004d3d5"
      },
      "execution_count": null,
      "outputs": [
        {
          "output_type": "stream",
          "name": "stdout",
          "text": [
            "Epoch: 0, Training Loss: 2.135784\n",
            "Epoch: 50, Training Loss: 0.913879\n",
            "Epoch: 100, Training Loss: 1.141922\n",
            "Epoch: 150, Training Loss: 0.869871\n",
            "Epoch: 200, Training Loss: 0.537757\n",
            "Epoch: 250, Training Loss: 0.237564\n",
            "Epoch: 300, Training Loss: 0.276458\n",
            "Total Training Time: 4966.341771602631 seconds\n",
            "\n",
            "Validation Accuracy: %f 0.5343\n",
            "Total Validation Time: 2.4173367023468018 seconds\n",
            "Total Runtime: 4968.759108304977 seconds\n"
          ]
        }
      ]
    },
    {
      "cell_type": "markdown",
      "source": [
        "**2b. SGD Optimized Neural Network with 3 hidden layer**"
      ],
      "metadata": {
        "id": "fJyPFIgZeA_r"
      }
    },
    {
      "cell_type": "code",
      "source": [
        "seq_model = nn.Sequential(\n",
        "    nn.Linear(3072, 512),\n",
        "    nn.ReLU(),\n",
        "    nn.Linear(512, 1024),\n",
        "    nn.ReLU(),\n",
        "    nn.Linear(1024, 256),\n",
        "    nn.ReLU(),\n",
        "    nn.Linear(256,10))\n",
        "\n",
        "optimizer = optim.SGD(seq_model.parameters(), lr=1e-3)\n",
        "\n",
        "training(\n",
        "    epochs = 300,\n",
        "    optimizer = optimizer,\n",
        "    model = seq_model,\n",
        "    loss_fn = nn.CrossEntropyLoss(),\n",
        "    train_set = cifar10_train,\n",
        "    valid_set = cifar10_valid\n",
        ")"
      ],
      "metadata": {
        "colab": {
          "base_uri": "https://localhost:8080/"
        },
        "id": "UHxASwOBeFAu",
        "outputId": "cb323dea-e081-4d79-c842-74de24a44b95"
      },
      "execution_count": null,
      "outputs": [
        {
          "output_type": "stream",
          "name": "stdout",
          "text": [
            "Epoch: 0, Training Loss: 2.248029\n",
            "Epoch: 50, Training Loss: 1.029711\n",
            "Epoch: 100, Training Loss: 0.401296\n",
            "Epoch: 150, Training Loss: 0.141769\n",
            "Epoch: 200, Training Loss: 0.107162\n",
            "Epoch: 250, Training Loss: 0.009748\n",
            "Epoch: 300, Training Loss: 0.011992\n",
            "Total Training Time: 6364.693591594696 seconds\n",
            "\n",
            "Validation Accuracy: %f 0.5169\n",
            "Total Validation Time: 2.7211508750915527 seconds\n",
            "Total Runtime: 6367.414742469788 seconds\n"
          ]
        }
      ]
    }
  ]
}